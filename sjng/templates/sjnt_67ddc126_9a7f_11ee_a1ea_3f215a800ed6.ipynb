{
 "cells": [
  {
   "cell_type": "markdown",
   "id": "c31d316a-c228-4a42-a427-73fc2e6b1fc5",
   "metadata": {
    "editable": true,
    "slideshow": {
     "slide_type": ""
    },
    "tags": [
     "SJNT_INSTANCE_NAME"
    ]
   },
   "source": [
    "# <SJNT_INSTANCE_NAME>"
   ]
  },
  {
   "cell_type": "markdown",
   "id": "5740b29e-c32a-4181-8065-8c3e5fe3df36",
   "metadata": {
    "editable": true,
    "slideshow": {
     "slide_type": ""
    },
    "tags": [
     "SJNT_INSTANCE_FILE_NAME",
     "SJNT_INSTANCE_REQUESTER",
     "SJNT_INSTANCE_DATETIME",
     "SJNT_INSTANCE_NAME",
     "SJNT_INSTANCE_DESCRIPTION"
    ]
   },
   "source": [
    "## Instance Info\n",
    "- File name: <SJNT_INSTANCE_FILE_NAME>  \n",
    "- Requester: <SJNT_INSTANCE_REQUESTER>  \n",
    "- Created: <SJNT_INSTANCE_DATETIME>  \n",
    "- Name: <SJNT_INSTANCE_NAME>  \n",
    "- Description:  \n",
    "    <SJNT_INSTANCE_DESCRIPTION>  "
   ]
  },
  {
   "cell_type": "markdown",
   "id": "42f9d024-7dc2-4c5e-bc32-d73bd768ddf4",
   "metadata": {
    "editable": true,
    "slideshow": {
     "slide_type": ""
    },
    "tags": []
   },
   "source": [
    "## Template Info\n",
    "- Template Id: 67ddc126-9a7f-11ee-a1ea-3f215a800ed6  \n",
    "- File name: sjnt_67ddc126_9a7f_11ee_a1ea_3f215a800ed6.ipynb  \n",
    "- Author: Max Novelli\n",
    "- Email: max.novelli@ess.eu\n",
    "- Institution: European Spallation Source\n",
    "- Version: 0.1\n",
    "- Name: Starter with datasets and files\n",
    "- Description:  \n",
    "    This template will produce a notebook that loads a list of SciCat datasets and downloads the requested files.  \n",
    "    Please be aware that the file download might take a considerable length of time as the file size is not known.\n",
    "    This notebook assumes that you have access to the ESS sftp server."
   ]
  },
  {
   "cell_type": "markdown",
   "id": "437199de-d72c-46c6-a6d9-e31498c97282",
   "metadata": {},
   "source": [
    "### Variables defined by the selections made in SciCat"
   ]
  },
  {
   "cell_type": "code",
   "execution_count": null,
   "id": "c8220471-2cff-44a4-8116-8746c5e5c061",
   "metadata": {
    "editable": true,
    "slideshow": {
     "slide_type": ""
    },
    "tags": [
     "SJNG_SCICAT_URL"
    ]
   },
   "outputs": [],
   "source": [
    "scicat_url=\"<SJNG_SCICAT_URL>\""
   ]
  },
  {
   "cell_type": "code",
   "execution_count": null,
   "id": "06be562f-84eb-4b3b-87c7-6fc009e10794",
   "metadata": {
    "editable": true,
    "slideshow": {
     "slide_type": ""
    },
    "tags": [
     "SJNG_SCICAT_TOKEN"
    ]
   },
   "outputs": [],
   "source": [
    "scicat_token=\"<SJNG_SCICAT_TOKEN>\""
   ]
  },
  {
   "cell_type": "code",
   "execution_count": null,
   "id": "0fcb3058-438c-4710-975f-fae581eab838",
   "metadata": {
    "editable": true,
    "slideshow": {
     "slide_type": ""
    },
    "tags": []
   },
   "outputs": [],
   "source": [
    "sftp_server=\"login.esss.dk\""
   ]
  },
  {
   "cell_type": "markdown",
   "id": "e2e3116e-c726-4c8d-8299-fc084425c53e",
   "metadata": {
    "editable": true,
    "slideshow": {
     "slide_type": ""
    },
    "tags": []
   },
   "source": [
    "This variable contains the list of each individual file and the pid of the dataset that it belongs to.\n",
    "Its format should be:\n",
    "```json\n",
    "[\n",
    "    {pid1, file1}\n",
    "    ...\n",
    "]\n",
    "```"
   ]
  },
  {
   "cell_type": "code",
   "execution_count": null,
   "id": "9ecc86db-81ae-46a5-8866-22a0112fccfa",
   "metadata": {
    "editable": true,
    "slideshow": {
     "slide_type": ""
    },
    "tags": [
     "SJNG_DATASETS_FILES"
    ]
   },
   "outputs": [],
   "source": [
    "files_to_be_downloaded=<SJNG_DATASETS_FILES>"
   ]
  },
  {
   "cell_type": "markdown",
   "id": "ea52b7a9-920b-4518-9d46-b0ced0207a49",
   "metadata": {
    "editable": true,
    "slideshow": {
     "slide_type": ""
    },
    "tags": []
   },
   "source": [
    "### User defined variables"
   ]
  },
  {
   "cell_type": "markdown",
   "id": "c542c0b6-4d67-484f-8dd9-cd8b6a6ffee3",
   "metadata": {},
   "source": [
    "Please change the local data folder to your liking.  \n",
    "This is the folder where the selected files will be downloaded."
   ]
  },
  {
   "cell_type": "code",
   "execution_count": null,
   "id": "0c92323f-1505-42ff-a78b-b70f8a8f2e03",
   "metadata": {},
   "outputs": [],
   "source": [
    "local_data_folder=\"downloads\""
   ]
  },
  {
   "cell_type": "markdown",
   "id": "94b1ba99-1705-47ca-8abf-fb0edd3dbd0b",
   "metadata": {},
   "source": [
    "Creates a list of unique datasets' pids."
   ]
  },
  {
   "cell_type": "code",
   "execution_count": null,
   "id": "48d3c47d-c1af-482d-b459-a2f55be8d744",
   "metadata": {},
   "outputs": [],
   "source": [
    "datasets_pids = list(set([\n",
    "    item[0]\n",
    "    for item \n",
    "    in files_to_be_downloaded\n",
    "]))"
   ]
  },
  {
   "cell_type": "markdown",
   "id": "198c9f14-3597-40ca-88f1-07aa3f4c02d0",
   "metadata": {},
   "source": [
    "Loading the libraries needed to interface with SciCat"
   ]
  },
  {
   "cell_type": "code",
   "execution_count": null,
   "id": "a9297336-cf6c-4d1c-80c6-9c6714f858e6",
   "metadata": {},
   "outputs": [],
   "source": [
    "from scitacean import Client\n",
    "from scitacean.transfer.sftp import SFTPFileTransfer"
   ]
  },
  {
   "cell_type": "markdown",
   "id": "682e2fba-cc28-4987-9ee6-e8d888f1253c",
   "metadata": {},
   "source": [
    "Instantiate scitacean client"
   ]
  },
  {
   "cell_type": "code",
   "execution_count": null,
   "id": "ff450938-214c-463f-bdcd-a31827587d53",
   "metadata": {},
   "outputs": [],
   "source": [
    "sc_client = Client.from_token(\n",
    "    url=scicat_url,\n",
    "    token=scicat_token,\n",
    "    file_transfer=SFTPFileTransfer(\n",
    "        host=sftp_server\n",
    "    ))"
   ]
  },
  {
   "cell_type": "markdown",
   "id": "051541b0-cdd4-4a43-932a-1eec02f6bc99",
   "metadata": {},
   "source": [
    "Load all datasets from SciCat"
   ]
  },
  {
   "cell_type": "code",
   "execution_count": null,
   "id": "980a5aa7-cb8b-461e-a26f-5fb08b8fe0a8",
   "metadata": {},
   "outputs": [],
   "source": [
    "datasets = {\n",
    "    pid: sc_client.get_dataset(pid)\n",
    "    for pid\n",
    "    in datasets_pids\n",
    "}"
   ]
  },
  {
   "cell_type": "markdown",
   "id": "1d1b84d1-8ede-4e9c-ade6-cdbe6545d8dd",
   "metadata": {},
   "source": [
    "Now loops through the files list and download each individual file"
   ]
  },
  {
   "cell_type": "code",
   "execution_count": null,
   "id": "e56027e9-46c6-45d5-b8cf-d0bd4980b2a5",
   "metadata": {},
   "outputs": [],
   "source": [
    "for item in files_to_be_downloaded:\n",
    "    \n",
    "    pid = item[0]\n",
    "    file = item[1]\n",
    "    \n",
    "    datasets[pid] = sc_client.download_files(\n",
    "        datasets[pid],\n",
    "        target=local_data_folder,\n",
    "        select=file\n",
    "    )\n"
   ]
  },
  {
   "cell_type": "markdown",
   "id": "87591591-d499-4839-af0a-3664a4ed9dc5",
   "metadata": {},
   "source": [
    "## Analysis\n",
    "\n",
    "Now datasets' metadata and associated data files are available locally.  \n",
    "You can start with your analysis or data exploration"
   ]
  },
  {
   "cell_type": "code",
   "execution_count": null,
   "id": "8be0479c-8cd0-4398-be20-e00ddf06b7aa",
   "metadata": {},
   "outputs": [],
   "source": []
  }
 ],
 "metadata": {
  "kernelspec": {
   "display_name": "Python 3 (ipykernel)",
   "language": "python",
   "name": "python3"
  },
  "language_info": {
   "codemirror_mode": {
    "name": "ipython",
    "version": 3
   },
   "file_extension": ".py",
   "mimetype": "text/x-python",
   "name": "python",
   "nbconvert_exporter": "python",
   "pygments_lexer": "ipython3",
   "version": "3.11.6"
  }
 },
 "nbformat": 4,
 "nbformat_minor": 5
}
