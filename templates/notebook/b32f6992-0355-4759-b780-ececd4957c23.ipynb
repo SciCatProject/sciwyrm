{
 "cells": [
  {
   "cell_type": "markdown",
   "id": "803f7b636cfa4b4c",
   "metadata": {},
   "source": [
    "# {{ TEMPLATE_DISPLAY_NAME | capitalize }}"
   ]
  },
  {
   "cell_type": "markdown",
   "id": "9e7442fc9ec68975",
   "metadata": {},
   "source": [
    "Notebook generated from template '{{ TEMPLATE_DISPLAY_NAME }}' version {{ TEMPLATE_VERSION }} (id: {{ TEMPLATE_ID }})."
   ]
  },
  {
   "cell_type": "code",
   "execution_count": null,
   "id": "923ba88e07905c7b",
   "metadata": {},
   "outputs": [],
   "source": [
    "import scitacean\n",
    "from scitacean.transfer.sftp import SFTPFileTransfer"
   ]
  },
  {
   "cell_type": "code",
   "execution_count": null,
   "id": "91d1974c665d73f3",
   "metadata": {},
   "outputs": [],
   "source": [
    "scicat_url = {{ SCICAT_URL | quote | je | safe }}\n",
    "file_server_host = {{ FILE_SERVER_HOST | quote | je | safe }}\n",
    "file_server_port = {{ FILE_SERVER_PORT | int }}"
   ]
  },
  {
   "cell_type": "code",
   "execution_count": null,
   "id": "31c3a003da7913e9",
   "metadata": {},
   "outputs": [],
   "source": [
    "scicat_token = {{ SCICAT_TOKEN | quote | je | safe }}"
   ]
  },
  {
   "cell_type": "code",
   "execution_count": null,
   "id": "initial_id",
   "metadata": {},
   "outputs": [],
   "source": [
    "input_dataset_pids = [{% for pid in DATASET_PIDS %}\n",
    "    {{ pid | quote | je | safe }},{% endfor %}\n",
    "]"
   ]
  },
  {
   "cell_type": "code",
   "execution_count": null,
   "id": "8f1a34476bf70da7",
   "metadata": {},
   "outputs": [],
   "source": [
    "file_download_folder = \"./download\""
   ]
  },
  {
   "cell_type": "code",
   "execution_count": null,
   "id": "1d0f975884ac9e5b",
   "metadata": {},
   "outputs": [],
   "source": [
    "scicat_client = scitacean.Client.from_token(\n",
    "    url=scicat_url,\n",
    "    token=scicat_token,\n",
    "    file_transfer=SFTPFileTransfer(\n",
    "        host=file_server_host,\n",
    "        port=file_server_port,\n",
    "    )\n",
    ")"
   ]
  },
  {
   "cell_type": "code",
   "execution_count": null,
   "id": "dc6f6c8b285dfb16",
   "metadata": {},
   "outputs": [],
   "source": [
    "datasets = [\n",
    "    scicat_client.download_files(\n",
    "        scicat_client.get_dataset(pid),\n",
    "        target=file_download_folder,\n",
    "    )\n",
    "    for pid in input_dataset_pids\n",
    "]"
   ]
  }
 ],
 "metadata": {
  "kernelspec": {
   "display_name": "Python 3 (ipykernel)",
   "language": "python",
   "name": "python3"
  },
  "language_info": {
   "codemirror_mode": {
    "name": "ipython",
    "version": 3
   },
   "file_extension": ".py",
   "mimetype": "text/x-python",
   "name": "python",
   "nbconvert_exporter": "python",
   "pygments_lexer": "ipython3",
   "version": "3.11.5"
  }
 },
 "nbformat": 4,
 "nbformat_minor": 5
}
