{
 "cells": [
  {
   "cell_type": "code",
   "execution_count": null,
   "id": "923ba88e07905c7b",
   "metadata": {
    "collapsed": false,
    "jupyter": {
     "outputs_hidden": false
    }
   },
   "outputs": [],
   "source": [
    "import scitacean\n",
    "from scitacean.transfer.sftp import SFTPFileTransfer"
   ]
  },
  {
   "cell_type": "code",
   "execution_count": null,
   "id": "91d1974c665d73f3",
   "metadata": {
    "collapsed": false,
    "jupyter": {
     "outputs_hidden": false
    }
   },
   "outputs": [],
   "source": [
    "$SCICAT_URL"
   ]
  },
  {
   "cell_type": "code",
   "execution_count": null,
   "id": "initial_id",
   "metadata": {},
   "outputs": [],
   "source": [
    "$INPUT_DATASET_IDS"
   ]
  },
  {
   "cell_type": "code",
   "execution_count": null,
   "id": "31c3a003da7913e9",
   "metadata": {
    "collapsed": false,
    "jupyter": {
     "outputs_hidden": false
    }
   },
   "outputs": [],
   "source": [
    "scicat_token = \"INSERT-YOUR-SCICAT-TOKEN-HERE\""
   ]
  },
  {
   "cell_type": "code",
   "execution_count": null,
   "id": "8f1a34476bf70da7",
   "metadata": {
    "collapsed": false,
    "jupyter": {
     "outputs_hidden": false
    }
   },
   "outputs": [],
   "source": [
    "file_download_folder = \"./download\""
   ]
  },
  {
   "cell_type": "code",
   "execution_count": null,
   "id": "1d0f975884ac9e5b",
   "metadata": {
    "collapsed": false,
    "jupyter": {
     "outputs_hidden": false
    }
   },
   "outputs": [],
   "source": [
    "scicat_client = scitacean.Client.from_token(\n",
    "    url=scicat_url,\n",
    "    token=scicat_token,\n",
    "    file_transfer=SFTPFileTransfer(\n",
    "        host=\"login.esss.dk\",\n",
    "    )\n",
    ")"
   ]
  },
  {
   "cell_type": "code",
   "execution_count": null,
   "id": "a8771569425b88b7",
   "metadata": {
    "collapsed": false,
    "jupyter": {
     "outputs_hidden": false
    }
   },
   "outputs": [],
   "source": [
    "datasets = [\n",
    "    scicat_client.download_files(\n",
    "        scicat_client.get_dataset(pid),\n",
    "        target=file_download_folder,\n",
    "    )\n",
    "    for pid in input_dataset_pids\n",
    "]"
   ]
  }
 ],
 "metadata": {
  "kernelspec": {
   "display_name": "Python 3 (ipykernel)",
   "language": "python",
   "name": "python3"
  },
  "language_info": {
   "codemirror_mode": {
    "name": "ipython",
    "version": 3
   },
   "file_extension": ".py",
   "mimetype": "text/x-python",
   "name": "python",
   "nbconvert_exporter": "python",
   "pygments_lexer": "ipython3",
   "version": "3.11.5"
  }
 },
 "nbformat": 4,
 "nbformat_minor": 5
}
